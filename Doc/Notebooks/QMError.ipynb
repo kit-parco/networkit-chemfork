{
 "cells": [
  {
   "cell_type": "code",
   "execution_count": 7,
   "metadata": {
    "collapsed": false
   },
   "outputs": [],
   "source": [
    "# %load calc_frag_err_alt.py\n",
    "import numpy\n",
    "import sys, os.path"
   ]
  },
  {
   "cell_type": "code",
   "execution_count": 8,
   "metadata": {
    "collapsed": true
   },
   "outputs": [],
   "source": [
    "distancePath = ('bubble_dists.dat')"
   ]
  },
  {
   "cell_type": "code",
   "execution_count": 17,
   "metadata": {
    "collapsed": true
   },
   "outputs": [],
   "source": [
    "#Usage: calc_frag_err.py distances.dat\"\n",
    "\n",
    "# Read file with distances\n",
    "filein = distancePath\n",
    "\n",
    "# weighting factors for the two bond types\n",
    "strong = 5.0\n",
    "weak = 10.0\n",
    "\n",
    "# calculate error for fragment legth from min to max\n",
    "fragment_length_min = 1\n",
    "fragment_length_max = 64"
   ]
  },
  {
   "cell_type": "code",
   "execution_count": 18,
   "metadata": {
    "collapsed": false
   },
   "outputs": [],
   "source": [
    "# read distances into array\n",
    "f = open(filein, 'r')\n",
    "dd = numpy.fromfile(f, dtype=float, count=-1, sep=' ')\n",
    "f.close()\n",
    "\n",
    "# first number in file is number of residues\n",
    "num_res = int(dd[0])\n",
    "\n",
    "dists = numpy.zeros((num_res,num_res))\n",
    "dist_to_mol2 = numpy.zeros(num_res)\n",
    "\n",
    "dd_line = num_res+1\n",
    "\n",
    "# write distances into distance matrix\n",
    "for i in range(num_res):\n",
    "    dist_to_mol2[i]=dd[i+1]\n",
    "    for j in range(num_res-i):\n",
    "        dists[i,j+i] = dd[dd_line+j]\n",
    "        dists[j+i,i] = dd[dd_line+j]\n",
    "    dd_line = dd_line+num_res-i"
   ]
  },
  {
   "cell_type": "code",
   "execution_count": 19,
   "metadata": {
    "collapsed": false
   },
   "outputs": [
    {
     "name": "stdout",
     "output_type": "stream",
     "text": [
      "1 20.3450663236\n",
      "2 17.6161207267\n",
      "3 16.7023195207\n",
      "4 15.1934598584\n",
      "5 13.8489055786\n",
      "6 11.753302465\n",
      "7 11.7472167213\n",
      "8 12.931852937\n",
      "9 12.0781789743\n",
      "10 12.808962158\n",
      "11 11.4473732133\n",
      "12 9.38401355769\n",
      "13 7.65317464568\n",
      "14 7.78698175158\n",
      "15 7.6431137602\n",
      "16 7.11329944442\n",
      "17 6.52716807443\n",
      "18 6.68091354864\n",
      "19 7.94747611624\n",
      "20 7.65618228096\n",
      "21 8.09780139428\n",
      "22 6.93771382775\n",
      "23 6.7689959962\n",
      "24 6.78451069581\n",
      "25 5.47407834774\n",
      "26 5.50431995016\n",
      "27 6.1428496434\n",
      "28 5.86627136017\n",
      "29 6.2987471992\n",
      "30 5.42463285169\n",
      "31 5.38798904959\n",
      "32 5.13551013864\n",
      "33 5.13653565216\n",
      "34 5.13456802668\n",
      "35 5.15051596618\n",
      "36 5.16673669903\n",
      "37 5.1789586279\n",
      "38 5.02559685904\n",
      "39 5.03581227648\n",
      "40 5.03740980054\n",
      "41 4.90140812229\n",
      "42 4.7996451509\n",
      "43 0.824180915024\n",
      "44 0.766825761351\n",
      "45 0.744062273061\n",
      "46 0.727656398612\n",
      "47 0.722688374454\n",
      "48 0.724618545994\n",
      "49 0.721712512444\n",
      "50 0.719711861886\n",
      "51 0.716903236599\n",
      "52 0.700840690855\n",
      "53 0.701750224277\n",
      "54 0.68191794545\n",
      "55 0.704950863605\n",
      "56 0.693863609996\n",
      "57 1.02231777616\n",
      "58 0.744476151383\n",
      "59 0.314935501799\n",
      "60 0.13174465518\n",
      "61 0.122210472341\n",
      "62 0.0315265924403\n",
      "63 0.0178224828535\n",
      "64 0\n"
     ]
    }
   ],
   "source": [
    "# loop over the different fragment lengths\n",
    "for fragment_length in range(fragment_length_min,fragment_length_max+1) :\n",
    "    \n",
    "    neighbors = []\n",
    "    num_edges = 0\n",
    "    sum_edges = 0\n",
    "    edge = 0\n",
    "    fragment = 1\n",
    "    res_frag = numpy.zeros(num_res)\n",
    "\n",
    "# determine wether a new fragment started\n",
    "    for i in range(num_res) :\n",
    "        res_frag[i] = fragment\n",
    "        if ((i+1) % fragment_length == 0) :\n",
    "            fragment+=1\n",
    "\n",
    "    for i in range(num_res) :\n",
    "        neighbors.append([])\n",
    "        for j in range(i,num_res) :\n",
    "            if (j == i+1) : # these are the strong bonds between the residues along the chain\n",
    "                w = strong/numpy.power((dist_to_mol2[i] + dist_to_mol2[j])/2,3) \n",
    "                neighbors[-1].append((j,w))\n",
    "                num_edges = num_edges+1            \n",
    "\n",
    "                if (res_frag[i] != res_frag[j]) :\n",
    "                    sum_edges+=w\n",
    "\n",
    "            elif (j == i) : # no edge with itself\n",
    "                pass\n",
    "            elif dists[i,j] < 2.5 : # these are the weak bonds between residues within a certain distance cutoff\n",
    "                w = weak/numpy.power((dist_to_mol2[i] + dist_to_mol2[j])/2,3)\n",
    "                neighbors[-1].append((j,w))\n",
    "                num_edges = num_edges+1\n",
    "                if (res_frag[i] != res_frag[j]) :\n",
    "                    sum_edges+=w\n",
    "\n",
    "    print(fragment_length, sum_edges)"
   ]
  },
  {
   "cell_type": "code",
   "execution_count": null,
   "metadata": {
    "collapsed": true
   },
   "outputs": [],
   "source": []
  }
 ],
 "metadata": {
  "kernelspec": {
   "display_name": "Python 3",
   "language": "python",
   "name": "python3"
  },
  "language_info": {
   "codemirror_mode": {
    "name": "ipython",
    "version": 3
   },
   "file_extension": ".py",
   "mimetype": "text/x-python",
   "name": "python",
   "nbconvert_exporter": "python",
   "pygments_lexer": "ipython3",
   "version": "3.4.3"
  }
 },
 "nbformat": 4,
 "nbformat_minor": 0
}
